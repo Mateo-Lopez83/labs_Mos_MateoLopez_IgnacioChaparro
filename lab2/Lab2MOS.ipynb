{
 "cells": [
  {
   "cell_type": "markdown",
   "metadata": {},
   "source": [
    "# Laboratorio 2"
   ]
  },
  {
   "cell_type": "markdown",
   "metadata": {
    "vscode": {
     "languageId": "plaintext"
    }
   },
   "source": [
    "# Problema 1: : Distribución Óptima de Recursos en una Misión Humanitaria\n",
    "\n",
    "### Problema identificado:\n",
    "#TODO\n",
    "\n",
    "### Suposiciones para delimitar el modelo:\n",
    "- La cantidad de recursos en cada avion debe ser inferior a la capacidad de peso y volumen de este mismo.\n",
    "- Los recursos pueden ser divididos por kilogramo para ser enviados en diferentes aviones.\n",
    "- Las medicinas no pueden ser transportadas en el Avion 1\n",
    "- Los equipos medicos y el agua potable no pueden viajar en el mismo avion.\n",
    "- A excepción de las medicinas, los equipos medicos y el agua potable, los demas recursos pueden viajar en cualquiera de los aviones.\n",
    "\n",
    "## Variables Clave\n",
    "- **Variable de decisión** $x_{i,j}$ = {0, 1} donde la variable toma un valor de 1 en caso que se decida transportar el recurso $i$ en el avion $j$, y un valor de 0 en caso contrario $∀i ∈ R$ y $∀j ∈ A$\n",
    "- $y_{i,j} \\in \\mathbb{N}$, la cual define cuantos kg de un recurso $i$ se mandan en el avion $j$  $∀i ∈ R$ y $∀j ∈ A$\n",
    "## Conjuntos\n",
    "- $R = R_1, R_2, R_3, R_4, R_5$\n",
    "\n",
    "  Representando cada uno de los recursos posibles a transportar siguendo la siguiente organización.\n",
    "\n",
    "| Recurso            | Representación |\n",
    "|--------------------|--------|\n",
    "| Alimentos Básicos | $R_1$   |\n",
    "| Medicinas         | $R_2$   |\n",
    "| Equipos Médicos   | $R_3$   |\n",
    "| Agua Potable      | $R_4$   |\n",
    "| Mantas            | $R_5$   |\n",
    "\n",
    "- $A = A_1, A_2, A_3, …, A_n$\n",
    "\n",
    "  Representando cada uno de los aviones.\n",
    "\n",
    "## Parámetros\n",
    "- $P_i$ = Peso en kg del recurso $i$, $∀i ∈ R$\n",
    "- $Vproc_i$ = Volumen en $m^3$ **por kg** del recurso $i$, $∀i ∈ R$\n",
    "- $Valproc_i$ = Valor en dolares **por kg** del recurso $i$, $∀i ∈ R$\n",
    "- $CapP_j$ = Capacidad de **peso en kg** del avion $j$, $∀j ∈ A$\n",
    "- $CapV_j$ = Capacidad de volumen en $m^3$ del avion $j$, $∀j ∈ A$\n",
    "- $M$ = Constante usada para el modelamiento de la función objetivo\n",
    "\n",
    "## Relaciones\n",
    "- Maximizar el valor en recursos que cada avion transporte\n",
    "$$\n",
    "max(\\sum_{i ∈ R} \\sum_{j ∈ A} Valproc_i *x_{i,j}*y_{i,j})\n",
    "$$\n",
    "\n",
    "- Condicionar el valor de $y_{i,j}$ a la variable binaria $x_{i,j}$\n",
    "$$\n",
    "x_{i,j} \\le M*y_{i,j}, \\forall i,j \\in R,A\n",
    "$$\n",
    "- Limitar los recursos de un avion para que no superen la capacidad maxima de peso\n",
    "\n",
    "$$\n",
    "(\\sum_{i ∈ R/R_3} y_{i,j} )+ (300*y_{R_3,j})≤ CapP_j, ∀j ∈ A\n",
    "$$\n",
    "\n",
    "- Limitar los recursos de un avion para que no superen la capacidad maxima de volumen\n",
    "\n",
    "$$\n",
    "\\sum_{i ∈ R} V_i*y_{i,j} ≤ CapV_j, ∀j ∈ A\n",
    "$$\n",
    "\n",
    "- Modelar las restricciones especificas\n",
    "\n",
    "  Los medicamentos no pueden viajar en el avion 1\n",
    "\n",
    "  $$x_{R_2,1} = 0$$\n",
    "\n",
    "  Equipos medicos y agua potable no pueden viajar juntos\n",
    "  $$\n",
    "  x_{R_3,j} + x_{R_4,j} \\le 1, \\forall j\\in A\n",
    "  $$"
   ]
  },
  {
   "cell_type": "code",
   "execution_count": null,
   "metadata": {
    "vscode": {
     "languageId": "plaintext"
    }
   },
   "outputs": [],
   "source": []
  }
 ],
 "metadata": {
  "language_info": {
   "name": "python"
  }
 },
 "nbformat": 4,
 "nbformat_minor": 2
}
