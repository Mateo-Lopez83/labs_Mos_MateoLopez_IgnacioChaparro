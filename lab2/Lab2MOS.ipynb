{
 "cells": [
  {
   "cell_type": "markdown",
   "metadata": {},
   "source": [
    "# Laboratorio 2"
   ]
  },
  {
   "cell_type": "markdown",
   "metadata": {
    "vscode": {
     "languageId": "plaintext"
    }
   },
   "source": [
    "# Problema 1: : Distribución Óptima de Recursos en una Misión Humanitaria\n",
    "\n",
    "### Problema identificado:\n",
    "#TODO\n",
    "\n",
    "### Suposiciones para delimitar el modelo:\n",
    "- La cantidad de recursos en cada avion debe ser inferior a la capacidad de peso y volumen de este mismo.\n",
    "- Los recursos pueden ser divididos por kilogramo para ser enviados en diferentes aviones.\n",
    "- Las medicinas no pueden ser transportadas en el Avion 1\n",
    "- Los equipos medicos y el agua potable no pueden viajar en el mismo avion.\n",
    "- A excepción de las medicinas, los equipos medicos y el agua potable, los demas recursos pueden viajar en cualquiera de los aviones.\n",
    "\n",
    "## Variables Clave\n",
    "- **Variable de decisión** $x_{i,j}$ = {0, 1} donde la variable toma un valor de 1 en caso que se decida transportar el recurso $i$ en el avion $j$, y un valor de 0 en caso contrario $∀i ∈ R$ y $∀j ∈ A$\n",
    "- $y_{i,j} \\in \\mathbb{N}$, la cual define cuantos kg de un recurso $i$ se mandan en el avion $j$  $∀i ∈ R$ y $∀j ∈ A$\n",
    "## Conjuntos\n",
    "- $R = R_1, R_2, R_3, R_4, R_5$\n",
    "\n",
    "  Representando cada uno de los recursos posibles a transportar siguendo la siguiente organización.\n",
    "\n",
    "| Recurso            | Representación |\n",
    "|--------------------|--------|\n",
    "| Alimentos Básicos | $R_1$   |\n",
    "| Medicinas         | $R_2$   |\n",
    "| Equipos Médicos   | $R_3$   |\n",
    "| Agua Potable      | $R_4$   |\n",
    "| Mantas            | $R_5$   |\n",
    "\n",
    "- $A = A_1, A_2, A_3, …, A_n$\n",
    "\n",
    "  Representando cada uno de los aviones.\n",
    "\n",
    "## Parámetros\n",
    "- $P_i$ = Peso en kg del recurso $i$, $∀i ∈ R$\n",
    "- $Vproc_i$ = Volumen en $m^3$ **por kg** del recurso $i$, $∀i ∈ R$\n",
    "- $Valproc_i$ = Valor en dolares **por kg** del recurso $i$, $∀i ∈ R$\n",
    "- $CapP_j$ = Capacidad de **peso en kg** del avion $j$, $∀j ∈ A$\n",
    "- $CapV_j$ = Capacidad de volumen en $m^3$ del avion $j$, $∀j ∈ A$\n",
    "- $M$ = Constante usada para el modelamiento de la función objetivo\n",
    "\n",
    "## Relaciones\n",
    "- Maximizar el valor en recursos que cada avion transporte\n",
    "$$\n",
    "max(\\sum_{i ∈ R} \\sum_{j ∈ A} Valproc_i *x_{i,j}*y_{i,j})\n",
    "$$\n",
    "\n",
    "- Condicionar el valor de $y_{i,j}$ a la variable binaria $x_{i,j}$\n",
    "$$\n",
    "x_{i,j} \\le M*y_{i,j}, \\forall i,j \\in R,A\n",
    "$$\n",
    "- Limitar los recursos de un avion para que no superen la capacidad maxima de peso\n",
    "\n",
    "$$\n",
    "(\\sum_{i ∈ R/R_3} y_{i,j} )+ (300*y_{R_3,j})≤ CapP_j, ∀j ∈ A\n",
    "$$\n",
    "\n",
    "- Limitar los recursos de un avion para que no superen la capacidad maxima de volumen\n",
    "\n",
    "$$\n",
    "\\sum_{i ∈ R} V_i*y_{i,j} ≤ CapV_j, ∀j ∈ A\n",
    "$$\n",
    "\n",
    "- Modelar las restricciones especificas\n",
    "\n",
    "  Los medicamentos no pueden viajar en el avion 1\n",
    "\n",
    "  $$x_{R_2,1} = 0$$\n",
    "\n",
    "  Equipos medicos y agua potable no pueden viajar juntos\n",
    "  $$\n",
    "  x_{R_3,j} + x_{R_4,j} \\le 1, \\forall j\\in A\n",
    "  $$"
   ]
  },
  {
   "cell_type": "code",
   "execution_count": null,
   "metadata": {},
   "outputs": [],
   "source": []
  },
  {
   "cell_type": "markdown",
   "metadata": {},
   "source": [
    "---"
   ]
  },
  {
   "cell_type": "markdown",
   "metadata": {},
   "source": [
    "## 2.4 Problema 4: Ruta de Mínimo Costo en una Red de Nodos Móviles Inalámbricos"
   ]
  },
  {
   "cell_type": "markdown",
   "metadata": {},
   "source": [
    "#### Paso 1: Preprocesamiento y Parametrización:"
   ]
  },
  {
   "cell_type": "code",
   "execution_count": null,
   "metadata": {},
   "outputs": [],
   "source": [
    "import math\n",
    "\n",
    "\n",
    "def calcular_distancia(xi,xj,yi,yj)->float:\n",
    "    return math.sqrt((xi-xj)**2+(yi-yj)**2)\n",
    "\n",
    "'''\n",
    "Se asume que como parametro inicial se recibe la tabla de posiciones de cada nodo\n",
    "en la estructura de diccionario de la forma \n",
    "{\n",
    "  llave_nodo_i:(x_i,y_i)\n",
    "}\n",
    "'''\n",
    "tabla_posiciones = {\n",
    "    1:(20,6),\n",
    "    2:(22,1),\n",
    "    3:(9,2),\n",
    "    4:(3,25),\n",
    "    5:(21,10),\n",
    "    6:(29,2),\n",
    "    7:(14,12)\n",
    "}\n",
    "\n",
    "def generar_matriz_costos(tabla_posiciones)->list:\n",
    "    matriz_costos =[]\n",
    "    for i in tabla_posiciones.keys():\n",
    "        xi = tabla_posiciones[i][0]\n",
    "        yi = tabla_posiciones[i][1]\n",
    "        costos_i = []\n",
    "        for j in tabla_posiciones.keys():\n",
    "            xj = tabla_posiciones[j][0]\n",
    "            yj = tabla_posiciones[j][1]\n",
    "            costo = round(calcular_distancia(xi,xj,yi,yj),4)\n",
    "            if costo<=20:\n",
    "                costos_i.append(costo)\n",
    "            else:\n",
    "                costos_i.append(9999999)\n",
    "        matriz_costos.append(costos_i)\n",
    "    return matriz_costos"
   ]
  },
  {
   "cell_type": "markdown",
   "metadata": {
    "vscode": {
     "languageId": "plaintext"
    }
   },
   "source": [
    "\n",
    "### Problema identificado:\n",
    "#TODO\n",
    "\n",
    "### Suposiciones para delimitar el modelo:\n",
    "- Cada eje (dado que exista cumpliendo la restricción de las 20 unidades) es no dirigido.\n",
    "- El nodo de origen es el 4 ( posición 3 en la matriz de costos dada la indexación de listas en python)\n",
    "- El nodo destino es el 6 (posición 5 en la matriz de costos)\n",
    "\n",
    "## Conjunto:\n",
    "$N = N_1, N_2, N_3, ..., N_n$\n",
    "Representando cada uno de los nodos existentes en el grafo\n",
    "\n",
    "## Parámetros \n",
    "- $X_i$ = Coordenada X en el plano del nodo $i$, $∀i ∈ N$\n",
    "- $Y_i$ = Coordenada Y en el plano del nodo $i$, $∀i ∈ N$\n",
    "- $C_{i,j}$ = Costo de cruzar el eje entre los nodos $i$ y $j$, $\\forall i,j \\in N $\n",
    "- $ n_{or} $ = nodo origen, $ n_{or} \\in N$\n",
    "- $ n_{dest} $ = nodo origen $ n_{dest} \\in N $\n",
    "## Variables Clave\n",
    "- **Variable de decisión** $x_{i,j}$ = {0, 1} donde la variable toma un valor de 1 en caso que se decida tomar el eje que une los nodos $i$ y $j$, y un valor de 0 en caso contrario $∀i,j ∈ N$\n",
    "\n",
    "## Función Objetivo:\n",
    "- Minimizar el costo de la suma de los caminos \n",
    "$$\n",
    "min(\\sum_{(i,j) ∈ N} C_{i,j} *x_{i,j})\n",
    "$$\n",
    "\n",
    "## Restricciones:\n",
    "- Del nodo origen tiene que seleccionarse 1 camino hacia algún otro nodo (para asegurarse que el camino comienza)\n",
    "\n",
    "$$\n",
    "\\sum_{j ∈ N} x_{n_{or},j} =1\n",
    "$$\n",
    "\n",
    "- Tiene que seleccionarse 1 camino que termine en el nodo destino (para asegurarse que el camino se completó)\n",
    "\n",
    "$$\n",
    "\\sum_{i ∈ N} x_{i,n_{dest}} =1\n",
    "$$\n",
    "\n",
    "- Si se selecciona un camino $(i,j)$, tiene que seleccionarse algún camino $(j,s)$, para todos los $i,j,s \\in N$\n",
    "$$\n",
    "\\sum_{i ∈ N } x_{i,j} - \\sum_{s ∈ N } x_{j,s} = 0, \\forall j \\in N |(j\\neq n_{dest} \\wedge j\\neq n_{or})\n",
    "$$\n",
    "\n"
   ]
  },
  {
   "cell_type": "code",
   "execution_count": 8,
   "metadata": {},
   "outputs": [
    {
     "name": "stdout",
     "output_type": "stream",
     "text": [
      "[0.0, 5.3852, 11.7047, 9999999, 4.1231, 9.8489, 8.4853]\n",
      "[5.3852, 0.0, 13.0384, 9999999, 9.0554, 7.0711, 13.6015]\n",
      "[11.7047, 13.0384, 0.0, 9999999, 14.4222, 20.0, 11.1803]\n",
      "[9999999, 9999999, 9999999, 0.0, 9999999, 9999999, 17.0294]\n",
      "[4.1231, 9.0554, 14.4222, 9999999, 0.0, 11.3137, 7.2801]\n",
      "[9.8489, 7.0711, 20.0, 9999999, 11.3137, 0.0, 18.0278]\n",
      "[8.4853, 13.6015, 11.1803, 17.0294, 7.2801, 18.0278, 0.0]\n"
     ]
    }
   ],
   "source": [
    "for fila in generar_matriz_costos(tabla_posiciones):\n",
    "    print(fila)\n"
   ]
  },
  {
   "cell_type": "code",
   "execution_count": 12,
   "metadata": {},
   "outputs": [
    {
     "name": "stdout",
     "output_type": "stream",
     "text": [
      "Camino óptimo:\n",
      "Costo total (redondeado): 35.057\n",
      "Ejes recorridos:\n",
      "Nodo 4 al nodo 7 (Costo: 17.0294)\n",
      "Nodo 7 al nodo 6 (Costo: 18.0278)\n"
     ]
    }
   ],
   "source": [
    "from pyomo.environ import *\n",
    "\n",
    "modelo4 = ConcreteModel()\n",
    "N_NODOS = 7\n",
    "\n",
    "NODO_ORIGEN = 4\n",
    "\n",
    "NODO_DEST = 6\n",
    "modelo4.N = RangeSet(N_NODOS)\n",
    "modelo4.x = Var(modelo4.N, modelo4.N, domain=Binary,initialize=0)\n",
    "tabla_costos = generar_matriz_costos(tabla_posiciones)\n",
    "modelo4.obj = Objective(expr=sum(tabla_costos[i-1][j-1] * modelo4.x[i,j] for i in modelo4.N for j in modelo4.N), sense=minimize)\n",
    "\n",
    "modelo4.restricciones = ConstraintList()\n",
    "\n",
    "modelo4.restricciones.add(sum(modelo4.x[NODO_ORIGEN, j] for j in modelo4.N if j != NODO_ORIGEN) == 1)\n",
    "modelo4.restricciones.add(sum(modelo4.x[i, NODO_DEST] for i in modelo4.N if i != NODO_DEST) == 1)\n",
    "\n",
    "\n",
    "for j in modelo4.N:\n",
    "    if j != NODO_ORIGEN and j != NODO_DEST:\n",
    "        modelo4.restricciones.add(\n",
    "            sum(modelo4.x[i, j] for i in modelo4.N) == sum(modelo4.x[j, s] for s in modelo4.N)\n",
    "        )\n",
    "\n",
    "solver = SolverFactory('glpk')  \n",
    "results = solver.solve(modelo4)\n",
    "\n",
    "if results.solver.status == SolverStatus.ok and results.solver.termination_condition == TerminationCondition.optimal:\n",
    "    print(\"Camino óptimo:\")\n",
    "    print(\"Costo total (redondeado):\", round(modelo4.obj(),3))\n",
    "    print(\"Ejes recorridos:\")\n",
    "    for i in modelo4.N:\n",
    "        for j in modelo4.N:\n",
    "            if modelo4.x[i, j].value == 1:\n",
    "                print(f\"Nodo {i} al nodo {j} (Costo: {tabla_costos[i-1][j-1]})\")\n",
    "else:\n",
    "    print(\"ay\")\n",
    "\n"
   ]
  }
 ],
 "metadata": {
  "kernelspec": {
   "display_name": "pyomo_env",
   "language": "python",
   "name": "python3"
  },
  "language_info": {
   "codemirror_mode": {
    "name": "ipython",
    "version": 3
   },
   "file_extension": ".py",
   "mimetype": "text/x-python",
   "name": "python",
   "nbconvert_exporter": "python",
   "pygments_lexer": "ipython3",
   "version": "3.9.21"
  }
 },
 "nbformat": 4,
 "nbformat_minor": 2
}
