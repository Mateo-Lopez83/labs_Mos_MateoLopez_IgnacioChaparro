{
 "cells": [
  {
   "cell_type": "markdown",
   "id": "48bb3481",
   "metadata": {},
   "source": [
    "# Problema 4 Análisis de Sensibilidad en Programación Lineal\n",
    "\n",
    "Realice un análisis de sensibilidad sobre la solución óptima obtenida mediante el método Simplex para el siguiente problema:\n",
    "\n",
    "$$\n",
    "\\begin{aligned}\n",
    "\\text{Maximizar} \\quad & Z = 4x_1 + 3x_2 \\\\\n",
    "\\text{sujeto a} \\quad & x_1 + 2x_2 \\leq 8 \\\\\n",
    "& 3x_1 + 2x_2 \\leq 12 \\\\\n",
    "& x_1, x_2 \\geq 0\n",
    "\\end{aligned}\n",
    "$$"
   ]
  },
  {
   "cell_type": "markdown",
   "id": "b04a6d1e",
   "metadata": {},
   "source": [
    "## 1. Resuelva el problema utilizando la implementación del método Simplex"
   ]
  },
  {
   "cell_type": "markdown",
   "id": "b44b2b30",
   "metadata": {},
   "source": [
    "$$\n",
    "x_1 + 2x_2 + s_1 = 8 \\\\\n",
    "3x_1 + 2x_2 + s_2 = 12 \\\\\n",
    "x_1, x_2, s_1, s_2 \\geq 0 \\\\\n",
    "$$"
   ]
  },
  {
   "cell_type": "markdown",
   "id": "3886f9d1",
   "metadata": {},
   "source": [
    "Primero convertimos la funcion a forma estandar introduciendo las variables de holgura\n",
    "\n",
    "Seguido de esto importamos las funciones necesarias para obtener la solución optima"
   ]
  },
  {
   "cell_type": "code",
   "execution_count": 3,
   "id": "81173267",
   "metadata": {},
   "outputs": [],
   "source": [
    "from simplex import simplex, visualize_table"
   ]
  },
  {
   "cell_type": "markdown",
   "id": "56e54280",
   "metadata": {},
   "source": [
    "Inicializamos la solución básica factible "
   ]
  },
  {
   "cell_type": "code",
   "execution_count": 4,
   "id": "3763c4bb",
   "metadata": {},
   "outputs": [
    {
     "name": "stdout",
     "output_type": "stream",
     "text": [
      "Table inicial con la solución básica factible:\n",
      "     x1   x2   x3   x4   RHS\n",
      "s1  1.0  2.0  1.0  0.0   8.0\n",
      "s2  3.0  2.0  0.0  1.0  12.0\n",
      "z  -4.0 -3.0 -0.0 -0.0   0.0\n"
     ]
    }
   ],
   "source": [
    "import numpy as np\n",
    "import pandas as pd\n",
    "\n",
    "# Definir los coeficientes de la función objetivo con variables de holgura\n",
    "c = np.array([4, 3, 0, 0], dtype=float)\n",
    "\n",
    "# Definir la matriz incluyendo las variables de holgura:\n",
    "A = np.array([\n",
    "    [1, 2, 1, 0],   # x1 + 2x2 + s1 = 8\n",
    "    [3, 2, 0, 1],   # 3x1 + 2x2 + s2 = 12\n",
    "], dtype=float)\n",
    "\n",
    "# Terminos independientes\n",
    "b = np.array([8, 12], dtype=float)\n",
    "\n",
    "m, n = A.shape  # m = 2 restricciones y n = 4 variables\n",
    "basic_vars_init = list(range(n - m, n))\n",
    "\n",
    "# Construir el table para el método Simplex:\n",
    "table_inicial = np.zeros((m + 1, n + 1))\n",
    "table_inicial[:m, :n] = A\n",
    "table_inicial[:m, n] = b\n",
    "table_inicial[m, :n] = -c\n",
    "\n",
    "# Visualizar la tabla inicial\n",
    "print(\"Table inicial con la solución básica factible:\")\n",
    "visualize_table(table_inicial, m, n, basic_vars_init)\n"
   ]
  },
  {
   "cell_type": "code",
   "execution_count": 5,
   "id": "e43f42a0",
   "metadata": {},
   "outputs": [
    {
     "name": "stdout",
     "output_type": "stream",
     "text": [
      "\n",
      "Iteración: 1\n",
      "     x1   x2   x3   x4   RHS\n",
      "s1  1.0  2.0  1.0  0.0   8.0\n",
      "s2  3.0  2.0  0.0  1.0  12.0\n",
      "z  -4.0 -3.0 -0.0 -0.0   0.0\n",
      "\n",
      "Iteración: 2\n",
      "     x1        x2   x3        x4   RHS\n",
      "s1  0.0  1.333333  1.0 -0.333333   4.0\n",
      "x1  1.0  0.666667  0.0  0.333333   4.0\n",
      "z   0.0 -0.333333  0.0  1.333333  16.0\n",
      "\n",
      "Iteración: 3\n",
      "     x1   x2    x3    x4   RHS\n",
      "x2  0.0  1.0  0.75 -0.25   3.0\n",
      "x1  1.0  0.0 -0.50  0.50   2.0\n",
      "z   0.0  0.0  0.25  1.25  17.0\n",
      "\n",
      "Tabla Final:\n",
      "     x1   x2    x3    x4   RHS\n",
      "x2  0.0  1.0  0.75 -0.25   3.0\n",
      "x1  1.0  0.0 -0.50  0.50   2.0\n",
      "z   0.0  0.0  0.25  1.25  17.0\n"
     ]
    }
   ],
   "source": [
    "# Ejecutar el método Simplex\n",
    "final_table, basic_vars_final = simplex(table_inicial, m, n)\n",
    "\n",
    "print(\"\\nTabla Final:\")\n",
    "visualize_table(final_table, m, n, basic_vars_final)"
   ]
  },
  {
   "cell_type": "markdown",
   "id": "2b803685",
   "metadata": {},
   "source": [
    "$$\n",
    "Z = 4x_1 + 3x_2 \\\\\n",
    "x_1 + 2x_2 + s_1 = 8 \\\\\n",
    "3x_1 + 2x_2 + s_2 = 12 \\\\\n",
    "x_1, x_2, s_1, s_2 \\geq 0 \\\\\n",
    "\\quad\\\\\n",
    "\\text{Donde la solución optima es:} \\\\\n",
    "x_1 = 2.0 \\\\\n",
    "x_2 = 3.0 \\\\\n",
    "Z = 17.0 \\\\\n",
    "$$"
   ]
  },
  {
   "cell_type": "markdown",
   "id": "dff6c7c3",
   "metadata": {},
   "source": []
  }
 ],
 "metadata": {
  "kernelspec": {
   "display_name": "Python 3",
   "language": "python",
   "name": "python3"
  },
  "language_info": {
   "codemirror_mode": {
    "name": "ipython",
    "version": 3
   },
   "file_extension": ".py",
   "mimetype": "text/x-python",
   "name": "python",
   "nbconvert_exporter": "python",
   "pygments_lexer": "ipython3",
   "version": "3.10.11"
  }
 },
 "nbformat": 4,
 "nbformat_minor": 5
}
