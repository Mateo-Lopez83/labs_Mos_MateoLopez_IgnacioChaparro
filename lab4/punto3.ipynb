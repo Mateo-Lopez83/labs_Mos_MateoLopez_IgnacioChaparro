{
 "cells": [
  {
   "cell_type": "markdown",
   "id": "0c29ecbb",
   "metadata": {},
   "source": [
    "# Punto 3 Comparación de Rendimiento con GLPK/Pyomo"
   ]
  },
  {
   "cell_type": "markdown",
   "id": "ed0f615f",
   "metadata": {},
   "source": [
    "## Solución por medio de Simplex"
   ]
  },
  {
   "cell_type": "markdown",
   "id": "b2279a98",
   "metadata": {},
   "source": [
    "Gilmoire Girls"
   ]
  },
  {
   "cell_type": "code",
   "execution_count": 1,
   "id": "7a3d1deb",
   "metadata": {},
   "outputs": [],
   "source": [
    "import numpy as np\n",
    "import pandas as pd"
   ]
  },
  {
   "cell_type": "markdown",
   "id": "30340c06",
   "metadata": {},
   "source": [
    "Para el primer paso se ingresan los datos del enunciado, incluyendo la matriz de coeficientes de restricciones (A), los terminos independientes y los coeficientes de la función objetivo."
   ]
  },
  {
   "cell_type": "code",
   "execution_count": 2,
   "id": "b1de88b1",
   "metadata": {},
   "outputs": [],
   "source": [
    "\n",
    "restricciones = np.array([\n",
    "    [1, 2, 1, 1, 0, 0, 3, 1, 2, 1], \n",
    "    [2, 1, 0, 2, 1, 1, 0, 3, 1, 2],\n",
    "    [1, 1, 2, 0, 2, 1, 1, 0, 3, 1],\n",
    "    [0, 2, 1, 1, 1, 0, 2, 1, 1, 1],\n",
    "    [2, 0, 1, 1, 1, 2, 1, 1, 0, 2],\n",
    "    [1, 1, 1, 1, 1, 1, 1, 1, 1, 1],\n",
    "    [0, 1, 2, 1, 0, 1, 2, 1, 1, 0],\n",
    "    [1, 0, 1, 2, 1, 0, 1, 2, 1, 1]\n",
    "], dtype=float)\n",
    "\n",
    "soluciones = np.array([50, 60, 55, 40, 45, 70, 65, 50], dtype=float).reshape(-1, 1)\n",
    "z = np.array([[-5, -8, -3, -7, -6, -9, -4, -10, -2, -11]], dtype=float)\n"
   ]
  },
  {
   "cell_type": "markdown",
   "id": "dbb5bb79",
   "metadata": {},
   "source": [
    "Como todas las restricciones son de la forma $\\le$, se tienen que crear las variables de holgura para cada una de las filas para que las restricciones sean de tipo $=$:\n"
   ]
  },
  {
   "cell_type": "code",
   "execution_count": 3,
   "id": "23c06fd1",
   "metadata": {},
   "outputs": [],
   "source": [
    "num_restricciones = restricciones.shape[0]\n",
    "holguras = np.eye(num_restricciones)\n",
    "restricciones_conholguras = np.hstack((restricciones, holguras))\n",
    "#Toca añadir un array de 0s a la fila de Z\n",
    "z_con_holguras = np.hstack((z, np.zeros((1, num_restricciones))))"
   ]
  },
  {
   "cell_type": "code",
   "execution_count": 4,
   "id": "b997ef93",
   "metadata": {},
   "outputs": [
    {
     "name": "stdout",
     "output_type": "stream",
     "text": [
      "     x1   x2   x3   x4   x5   x6   x7    x8   x9   x10   h1   h2   h3   h4  \\\n",
      "h1  1.0  2.0  1.0  1.0  0.0  0.0  3.0   1.0  2.0   1.0  1.0  0.0  0.0  0.0   \n",
      "h2  2.0  1.0  0.0  2.0  1.0  1.0  0.0   3.0  1.0   2.0  0.0  1.0  0.0  0.0   \n",
      "h3  1.0  1.0  2.0  0.0  2.0  1.0  1.0   0.0  3.0   1.0  0.0  0.0  1.0  0.0   \n",
      "h4  0.0  2.0  1.0  1.0  1.0  0.0  2.0   1.0  1.0   1.0  0.0  0.0  0.0  1.0   \n",
      "h5  2.0  0.0  1.0  1.0  1.0  2.0  1.0   1.0  0.0   2.0  0.0  0.0  0.0  0.0   \n",
      "h6  1.0  1.0  1.0  1.0  1.0  1.0  1.0   1.0  1.0   1.0  0.0  0.0  0.0  0.0   \n",
      "h7  0.0  1.0  2.0  1.0  0.0  1.0  2.0   1.0  1.0   0.0  0.0  0.0  0.0  0.0   \n",
      "h8  1.0  0.0  1.0  2.0  1.0  0.0  1.0   2.0  1.0   1.0  0.0  0.0  0.0  0.0   \n",
      "Z  -5.0 -8.0 -3.0 -7.0 -6.0 -9.0 -4.0 -10.0 -2.0 -11.0  0.0  0.0  0.0  0.0   \n",
      "\n",
      "     h5   h6   h7   h8  solucion  \n",
      "h1  0.0  0.0  0.0  0.0      50.0  \n",
      "h2  0.0  0.0  0.0  0.0      60.0  \n",
      "h3  0.0  0.0  0.0  0.0      55.0  \n",
      "h4  0.0  0.0  0.0  0.0      40.0  \n",
      "h5  1.0  0.0  0.0  0.0      45.0  \n",
      "h6  0.0  1.0  0.0  0.0      70.0  \n",
      "h7  0.0  0.0  1.0  0.0      65.0  \n",
      "h8  0.0  0.0  0.0  1.0      50.0  \n",
      "Z   0.0  0.0  0.0  0.0       0.0  \n"
     ]
    }
   ],
   "source": [
    "tabla = np.hstack((restricciones_conholguras, soluciones))\n",
    "tabla = np.vstack((tabla, np.append(z_con_holguras, 0)))\n",
    "\n",
    "columnas = [f'x{i+1}' for i in range(10)]\n",
    "holguras = [f'h{i+1}' for i in range(num_restricciones)]\n",
    "real_col = columnas + holguras + [\"solucion\"]\n",
    "index = holguras + [\"Z\"]\n",
    "\n",
    "df = pd.DataFrame(tabla, columns=real_col, index=index)\n",
    "print(df)"
   ]
  },
  {
   "cell_type": "markdown",
   "id": "6a506d02",
   "metadata": {},
   "source": [
    "### Definifición de funciones del punto 2"
   ]
  },
  {
   "cell_type": "markdown",
   "id": "b94be90f",
   "metadata": {},
   "source": [
    "Para realizar la optimización se tienen 3 funciones principales:\n",
    "- revisar_maximizacion(tabla): revisa la condición de parada de la tabla de simplex. Si encuentra que hay algún coeficiente negativo en la fila de $Z$, significa que aún se puede optimizar más. Si no encuentra ningún negativo, ya se llegó al óptimo. \n",
    "- pivote(tabla, num_fila_piv, num_col_piv): Reacibiendo la tabla actual, el numero de la columna que entra y la fila que sale, realiza las transformaciones necesarias para realizar el pivote.\n",
    "- solver_minimizacion(tabla): Lógica principal del proceso de simplex. Recibe la tabla con los coeficientes de ambos las variables de restricción y las variables de holgura, y realiza el proceso de optimización por medio de simplex hasta que revisar_maximizacion devuelva False."
   ]
  },
  {
   "cell_type": "code",
   "execution_count": 5,
   "id": "3e9eb228",
   "metadata": {},
   "outputs": [],
   "source": [
    "def revisar_maximizacion(tabla):\n",
    "    return any(var<0 for var in tabla[-1,:-1])\n",
    "\n",
    "def pivote(tabla, num_fila_piv, num_col_piv):\n",
    "    nueva_tabla = tabla.copy()\n",
    "\n",
    "    #Se toma solo la fila pivote, se edita y se devuelve a la tabla\n",
    "    fila_pivote = nueva_tabla[num_fila_piv, :].copy()\n",
    "    pivote_elemento = fila_pivote[num_col_piv]\n",
    "    fila_pivote = fila_pivote / pivote_elemento\n",
    "    nueva_tabla[num_fila_piv, :] = fila_pivote\n",
    "\n",
    "    for i in range(nueva_tabla.shape[0]):\n",
    "        if i != num_fila_piv:\n",
    "            fila_actual = nueva_tabla[i, :].copy()\n",
    "            coef = fila_actual[num_col_piv]\n",
    "            nueva_tabla[i, :] = fila_actual - (coef * fila_pivote)\n",
    "\n",
    "    return nueva_tabla\n",
    "\n",
    "\n",
    "\n",
    "\n",
    "def solver_minimizacion(tabla, filas, columnas):\n",
    "    iteracion = 1\n",
    "    \n",
    "    while revisar_maximizacion(tabla):\n",
    "        print (f\"Iteración {iteracion}:\")\n",
    "        columna = np.argmin(tabla[-1,:-1])\n",
    "        print (f\"Columna pivote:  {columna}. Entra la variable {columnas[columna]} como básica\")       \n",
    "        #Encontrar la fila pivote\n",
    "        num_fila = 0\n",
    "        ratios = []\n",
    "        for i in range(tabla[:-1].shape[0]):\n",
    "            if tabla[i, columna] > 0:\n",
    "                posible = tabla[i, -1] / tabla[i, columna]\n",
    "                ratios.append(posible)\n",
    "            else:\n",
    "                ratios.append(np.inf)\n",
    "\n",
    "        \n",
    "        num_fila = np.argmin(ratios)\n",
    "        print (f\"Fila pivote:  {num_fila}. Sale la variable {filas[num_fila]} como básica.\") \n",
    "        filas[num_fila] = columnas[columna]\n",
    "        tabla = pivote(tabla, num_fila, columna)\n",
    "        print(\"tabla actual:\")\n",
    "        print (pd.DataFrame(tabla, columns=columnas, index=filas))\n",
    "        iteracion+=1\n",
    "    print(\"Solución encontrada!!: \")\n",
    "    return tabla\n",
    "\n",
    "\n",
    "        "
   ]
  },
  {
   "cell_type": "markdown",
   "id": "a8791543",
   "metadata": {},
   "source": [
    "Da una solución viable. Posteriormente se generará una función que agrupe todos los procesos necesarios para resolver el proble,a y poder hacer una toma de tiempo"
   ]
  },
  {
   "cell_type": "markdown",
   "id": "3f55e3f1",
   "metadata": {},
   "source": [
    "# Automatización del proceso para medir tiempos\n"
   ]
  },
  {
   "cell_type": "code",
   "execution_count": 6,
   "id": "209bbb7f",
   "metadata": {},
   "outputs": [],
   "source": [
    "import time"
   ]
  },
  {
   "cell_type": "markdown",
   "id": "daae0309",
   "metadata": {},
   "source": [
    "Esta es la función que recibe los datos de entrada (`restricciones`, `soluciones`, `z`) y calcula el óptimo, primero realizando las transformaciones necesarias a la tabla original para crear las variables de holgura, y luego realizando el llamado a `solver_minimización`"
   ]
  },
  {
   "cell_type": "code",
   "execution_count": 7,
   "id": "3d66856f",
   "metadata": {},
   "outputs": [
    {
     "name": "stdout",
     "output_type": "stream",
     "text": [
      "Iteración 1:\n",
      "Columna pivote:  9. Entra la variable x10 como básica\n",
      "Fila pivote:  4. Sale la variable h5 como básica.\n",
      "tabla actual:\n",
      "      x1   x2   x3   x4   x5   x6   x7   x8   x9  x10   h1   h2   h3   h4  \\\n",
      "h1   0.0  2.0  0.5  0.5 -0.5 -1.0  2.5  0.5  2.0  0.0  1.0  0.0  0.0  0.0   \n",
      "h2   0.0  1.0 -1.0  1.0  0.0 -1.0 -1.0  2.0  1.0  0.0  0.0  1.0  0.0  0.0   \n",
      "h3   0.0  1.0  1.5 -0.5  1.5  0.0  0.5 -0.5  3.0  0.0  0.0  0.0  1.0  0.0   \n",
      "h4  -1.0  2.0  0.5  0.5  0.5 -1.0  1.5  0.5  1.0  0.0  0.0  0.0  0.0  1.0   \n",
      "x10  1.0  0.0  0.5  0.5  0.5  1.0  0.5  0.5  0.0  1.0  0.0  0.0  0.0  0.0   \n",
      "h6   0.0  1.0  0.5  0.5  0.5  0.0  0.5  0.5  1.0  0.0  0.0  0.0  0.0  0.0   \n",
      "h7   0.0  1.0  2.0  1.0  0.0  1.0  2.0  1.0  1.0  0.0  0.0  0.0  0.0  0.0   \n",
      "h8   0.0  0.0  0.5  1.5  0.5 -1.0  0.5  1.5  1.0  0.0  0.0  0.0  0.0  0.0   \n",
      "Z    6.0 -8.0  2.5 -1.5 -0.5  2.0  1.5 -4.5 -2.0  0.0  0.0  0.0  0.0  0.0   \n",
      "\n",
      "      h5   h6   h7   h8  solucion  \n",
      "h1  -0.5  0.0  0.0  0.0      27.5  \n",
      "h2  -1.0  0.0  0.0  0.0      15.0  \n",
      "h3  -0.5  0.0  0.0  0.0      32.5  \n",
      "h4  -0.5  0.0  0.0  0.0      17.5  \n",
      "x10  0.5  0.0  0.0  0.0      22.5  \n",
      "h6  -0.5  1.0  0.0  0.0      47.5  \n",
      "h7   0.0  0.0  1.0  0.0      65.0  \n",
      "h8  -0.5  0.0  0.0  1.0      27.5  \n",
      "Z    5.5  0.0  0.0  0.0     247.5  \n",
      "Iteración 2:\n",
      "Columna pivote:  1. Entra la variable x2 como básica\n",
      "Fila pivote:  3. Sale la variable h4 como básica.\n",
      "tabla actual:\n",
      "      x1   x2    x3    x4    x5   x6    x7    x8   x9  x10   h1   h2   h3  \\\n",
      "h1   1.0  0.0  0.00  0.00 -1.00  0.0  1.00  0.00  1.0  0.0  1.0  0.0  0.0   \n",
      "h2   0.5  0.0 -1.25  0.75 -0.25 -0.5 -1.75  1.75  0.5  0.0  0.0  1.0  0.0   \n",
      "h3   0.5  0.0  1.25 -0.75  1.25  0.5 -0.25 -0.75  2.5  0.0  0.0  0.0  1.0   \n",
      "x2  -0.5  1.0  0.25  0.25  0.25 -0.5  0.75  0.25  0.5  0.0  0.0  0.0  0.0   \n",
      "x10  1.0  0.0  0.50  0.50  0.50  1.0  0.50  0.50  0.0  1.0  0.0  0.0  0.0   \n",
      "h6   0.5  0.0  0.25  0.25  0.25  0.5 -0.25  0.25  0.5  0.0  0.0  0.0  0.0   \n",
      "h7   0.5  0.0  1.75  0.75 -0.25  1.5  1.25  0.75  0.5  0.0  0.0  0.0  0.0   \n",
      "h8   0.0  0.0  0.50  1.50  0.50 -1.0  0.50  1.50  1.0  0.0  0.0  0.0  0.0   \n",
      "Z    2.0  0.0  4.50  0.50  1.50 -2.0  7.50 -2.50  2.0  0.0  0.0  0.0  0.0   \n",
      "\n",
      "      h4    h5   h6   h7   h8  solucion  \n",
      "h1  -1.0  0.00  0.0  0.0  0.0     10.00  \n",
      "h2  -0.5 -0.75  0.0  0.0  0.0      6.25  \n",
      "h3  -0.5 -0.25  0.0  0.0  0.0     23.75  \n",
      "x2   0.5 -0.25  0.0  0.0  0.0      8.75  \n",
      "x10  0.0  0.50  0.0  0.0  0.0     22.50  \n",
      "h6  -0.5 -0.25  1.0  0.0  0.0     38.75  \n",
      "h7  -0.5  0.25  0.0  1.0  0.0     56.25  \n",
      "h8   0.0 -0.50  0.0  0.0  1.0     27.50  \n",
      "Z    4.0  3.50  0.0  0.0  0.0    317.50  \n",
      "Iteración 3:\n",
      "Columna pivote:  7. Entra la variable x8 como básica\n",
      "Fila pivote:  1. Sale la variable h2 como básica.\n",
      "tabla actual:\n",
      "           x1   x2        x3        x4        x5        x6   x7   x8  \\\n",
      "h1   1.000000  0.0  0.000000  0.000000 -1.000000  0.000000  1.0  0.0   \n",
      "x8   0.285714  0.0 -0.714286  0.428571 -0.142857 -0.285714 -1.0  1.0   \n",
      "h3   0.714286  0.0  0.714286 -0.428571  1.142857  0.285714 -1.0  0.0   \n",
      "x2  -0.571429  1.0  0.428571  0.142857  0.285714 -0.428571  1.0  0.0   \n",
      "x10  0.857143  0.0  0.857143  0.285714  0.571429  1.142857  1.0  0.0   \n",
      "h6   0.428571  0.0  0.428571  0.142857  0.285714  0.571429  0.0  0.0   \n",
      "h7   0.285714  0.0  2.285714  0.428571 -0.142857  1.714286  2.0  0.0   \n",
      "h8  -0.428571  0.0  1.571429  0.857143  0.714286 -0.571429  2.0  0.0   \n",
      "Z    2.714286  0.0  2.714286  1.571429  1.142857 -2.714286  5.0  0.0   \n",
      "\n",
      "           x9  x10   h1        h2   h3        h4        h5   h6   h7   h8  \\\n",
      "h1   1.000000  0.0  1.0  0.000000  0.0 -1.000000  0.000000  0.0  0.0  0.0   \n",
      "x8   0.285714  0.0  0.0  0.571429  0.0 -0.285714 -0.428571  0.0  0.0  0.0   \n",
      "h3   2.714286  0.0  0.0  0.428571  1.0 -0.714286 -0.571429  0.0  0.0  0.0   \n",
      "x2   0.428571  0.0  0.0 -0.142857  0.0  0.571429 -0.142857  0.0  0.0  0.0   \n",
      "x10 -0.142857  1.0  0.0 -0.285714  0.0  0.142857  0.714286  0.0  0.0  0.0   \n",
      "h6   0.428571  0.0  0.0 -0.142857  0.0 -0.428571 -0.142857  1.0  0.0  0.0   \n",
      "h7   0.285714  0.0  0.0 -0.428571  0.0 -0.285714  0.571429  0.0  1.0  0.0   \n",
      "h8   0.571429  0.0  0.0 -0.857143  0.0  0.428571  0.142857  0.0  0.0  1.0   \n",
      "Z    2.714286  0.0  0.0  1.428571  0.0  3.285714  2.428571  0.0  0.0  0.0   \n",
      "\n",
      "       solucion  \n",
      "h1    10.000000  \n",
      "x8     3.571429  \n",
      "h3    26.428571  \n",
      "x2     7.857143  \n",
      "x10   20.714286  \n",
      "h6    37.857143  \n",
      "h7    53.571429  \n",
      "h8    22.142857  \n",
      "Z    326.428571  \n",
      "Iteración 4:\n",
      "Columna pivote:  5. Entra la variable x6 como básica\n",
      "Fila pivote:  4. Sale la variable x10 como básica.\n",
      "tabla actual:\n",
      "              x1   x2    x3            x4   x5   x6     x7   x8     x9    x10  \\\n",
      "h1  1.000000e+00  0.0  0.00  0.000000e+00 -1.0  0.0  1.000  0.0  1.000  0.000   \n",
      "x8  5.000000e-01  0.0 -0.50  5.000000e-01  0.0  0.0 -0.750  1.0  0.250  0.250   \n",
      "h3  5.000000e-01  0.0  0.50 -5.000000e-01  1.0  0.0 -1.250  0.0  2.750 -0.250   \n",
      "x2 -2.500000e-01  1.0  0.75  2.500000e-01  0.5  0.0  1.375  0.0  0.375  0.375   \n",
      "x6  7.500000e-01  0.0  0.75  2.500000e-01  0.5  1.0  0.875  0.0 -0.125  0.875   \n",
      "h6  0.000000e+00  0.0  0.00  0.000000e+00  0.0  0.0 -0.500  0.0  0.500 -0.500   \n",
      "h7 -1.000000e+00  0.0  1.00  5.551115e-17 -1.0  0.0  0.500  0.0  0.500 -1.500   \n",
      "h8  5.551115e-17  0.0  2.00  1.000000e+00  1.0  0.0  2.500  0.0  0.500  0.500   \n",
      "Z   4.750000e+00  0.0  4.75  2.250000e+00  2.5  0.0  7.375  0.0  2.375  2.375   \n",
      "\n",
      "     h1    h2   h3     h4     h5   h6   h7   h8  solucion  \n",
      "h1  1.0  0.00  0.0 -1.000  0.000  0.0  0.0  0.0    10.000  \n",
      "x8  0.0  0.50  0.0 -0.250 -0.250  0.0  0.0  0.0     8.750  \n",
      "h3  0.0  0.50  1.0 -0.750 -0.750  0.0  0.0  0.0    21.250  \n",
      "x2  0.0 -0.25  0.0  0.625  0.125  0.0  0.0  0.0    15.625  \n",
      "x6  0.0 -0.25  0.0  0.125  0.625  0.0  0.0  0.0    18.125  \n",
      "h6  0.0  0.00  0.0 -0.500 -0.500  1.0  0.0  0.0    27.500  \n",
      "h7  0.0  0.00  0.0 -0.500 -0.500  0.0  1.0  0.0    22.500  \n",
      "h8  0.0 -1.00  0.0  0.500  0.500  0.0  0.0  1.0    32.500  \n",
      "Z   0.0  0.75  0.0  3.625  4.125  0.0  0.0  0.0   375.625  \n",
      "Solución encontrada!!: \n",
      "              x1   x2    x3            x4   x5   x6     x7   x8     x9    x10  \\\n",
      "h1  1.000000e+00  0.0  0.00  0.000000e+00 -1.0  0.0  1.000  0.0  1.000  0.000   \n",
      "x8  5.000000e-01  0.0 -0.50  5.000000e-01  0.0  0.0 -0.750  1.0  0.250  0.250   \n",
      "h3  5.000000e-01  0.0  0.50 -5.000000e-01  1.0  0.0 -1.250  0.0  2.750 -0.250   \n",
      "x2 -2.500000e-01  1.0  0.75  2.500000e-01  0.5  0.0  1.375  0.0  0.375  0.375   \n",
      "x6  7.500000e-01  0.0  0.75  2.500000e-01  0.5  1.0  0.875  0.0 -0.125  0.875   \n",
      "h6  0.000000e+00  0.0  0.00  0.000000e+00  0.0  0.0 -0.500  0.0  0.500 -0.500   \n",
      "h7 -1.000000e+00  0.0  1.00  5.551115e-17 -1.0  0.0  0.500  0.0  0.500 -1.500   \n",
      "h8  5.551115e-17  0.0  2.00  1.000000e+00  1.0  0.0  2.500  0.0  0.500  0.500   \n",
      "Z   4.750000e+00  0.0  4.75  2.250000e+00  2.5  0.0  7.375  0.0  2.375  2.375   \n",
      "\n",
      "     h1    h2   h3     h4     h5   h6   h7   h8  solucion  \n",
      "h1  1.0  0.00  0.0 -1.000  0.000  0.0  0.0  0.0    10.000  \n",
      "x8  0.0  0.50  0.0 -0.250 -0.250  0.0  0.0  0.0     8.750  \n",
      "h3  0.0  0.50  1.0 -0.750 -0.750  0.0  0.0  0.0    21.250  \n",
      "x2  0.0 -0.25  0.0  0.625  0.125  0.0  0.0  0.0    15.625  \n",
      "x6  0.0 -0.25  0.0  0.125  0.625  0.0  0.0  0.0    18.125  \n",
      "h6  0.0  0.00  0.0 -0.500 -0.500  1.0  0.0  0.0    27.500  \n",
      "h7  0.0  0.00  0.0 -0.500 -0.500  0.0  1.0  0.0    22.500  \n",
      "h8  0.0 -1.00  0.0  0.500  0.500  0.0  0.0  1.0    32.500  \n",
      "Z   0.0  0.75  0.0  3.625  4.125  0.0  0.0  0.0   375.625  \n",
      "El tiempo que se demoró en encontrar el óptimo fue de 0.061389923095703125ms\n"
     ]
    }
   ],
   "source": [
    "def automatizacion(restricciones,soluciones,z):\n",
    "    num_restricciones = restricciones.shape[0]\n",
    "    holguras = np.eye(num_restricciones)\n",
    "    restricciones_conholguras = np.hstack((restricciones, holguras))\n",
    "    #Toca añadir un array de 0s a la fila de Z\n",
    "    z_con_holguras = np.hstack((z, np.zeros((1, num_restricciones))))\n",
    "    tabla = np.hstack((restricciones_conholguras, soluciones))\n",
    "    tabla = np.vstack((tabla, np.append(z_con_holguras, 0)))\n",
    "\n",
    "    columnas = [f'x{i+1}' for i in range(10)]\n",
    "    holguras = [f'h{i+1}' for i in range(num_restricciones)]\n",
    "    real_col = columnas + holguras + [\"solucion\"]\n",
    "    index = holguras + [\"Z\"]\n",
    "    tabla = solver_minimizacion(tabla, index, real_col)\n",
    "    df = pd.DataFrame(tabla, columns=real_col, index=index)\n",
    "    print(df)\n",
    "\n",
    "#Acá se mide el tiempo\n",
    "start_time = time.time()\n",
    "automatizacion(restricciones=restricciones, soluciones= soluciones, z=z)\n",
    "entd_time = time.time()\n",
    "print(f\"El tiempo que se demoró en encontrar el óptimo fue de {entd_time-start_time}ms\")"
   ]
  },
  {
   "cell_type": "markdown",
   "id": "db251cba",
   "metadata": {},
   "source": [
    "## Solución con pyomo"
   ]
  },
  {
   "cell_type": "code",
   "execution_count": 2,
   "id": "1eef2d64",
   "metadata": {},
   "outputs": [
    {
     "name": "stdout",
     "output_type": "stream",
     "text": [
      "Máximo valor: 375.625\n",
      "Coeficientes a cada variable:\n",
      "Variable x_1: 0.0\n",
      "Variable x_2: 15.625\n",
      "Variable x_3: 0.0\n",
      "Variable x_4: 0.0\n",
      "Variable x_5: 0.0\n",
      "Variable x_6: 18.125\n",
      "Variable x_7: 0.0\n",
      "Variable x_8: 8.75\n",
      "Variable x_9: 0.0\n",
      "Variable x_10: 0.0\n",
      "El tiempo que se demoró en encontrar el óptimo fue de 0.07819104194641113ms\n"
     ]
    }
   ],
   "source": [
    "from pyomo.environ import *\n",
    "import time\n",
    "model = ConcreteModel()\n",
    "model.T= RangeSet(1,10)\n",
    "c = [5, 8, 3, 7, 6, 9, 4, 10, 2, 11]\n",
    "model.x = Var(model.T, domain=NonNegativeReals)\n",
    "model.obj = Objective(expr=sum(c[i-1]*model.x[i] for i in model.T), sense=maximize)\n",
    "model.tareas = ConstraintList()\n",
    "\n",
    "\n",
    "A = [\n",
    "    [1, 2, 1, 1, 0, 0, 3, 1, 2, 1],\n",
    "    [2, 1, 0, 2, 1, 1, 0, 3, 1, 2],\n",
    "    [1, 1, 2, 0, 2, 1, 1, 0, 3, 1],\n",
    "    [0, 2, 1, 1, 1, 0, 2, 1, 1, 1],\n",
    "    [2, 0, 1, 1, 1, 2, 1, 1, 0, 2],\n",
    "    [1, 1, 1, 1, 1, 1, 1, 1, 1, 1],\n",
    "    [0, 1, 2, 1, 0, 1, 2, 1, 1, 0],\n",
    "    [1, 0, 1, 2, 1, 0, 1, 2, 1, 1]\n",
    "]\n",
    "b = [50, 60, 55, 40, 45, 70, 65, 50]\n",
    "for j in range(8):\n",
    "    model.tareas.add(expr=sum(A[j][i] * model.x[i + 1] for i in range(10)) <= b[j])\n",
    "\n",
    "for n in range(10):\n",
    "    model.tareas.add(model.x[n+1] >=0)\n",
    "\n",
    "from pyomo.opt import SolverFactory\n",
    "start_time_2 = time.time()\n",
    "solver = SolverFactory('glpk')\n",
    "#solver.options['display'] = 'iter'\n",
    "solver.solve(model, )\n",
    "entd_time_time_2 = time.time()\n",
    "\n",
    "print(\"Máximo valor:\", model.obj())\n",
    "print(\"Coeficientes a cada variable:\")\n",
    "for i in model.T:\n",
    "    print(f\"Variable x_{i}: {model.x[i].value}\")\n",
    "print(f\"El tiempo que se demoró en encontrar el óptimo fue de {entd_time_time_2-start_time_2}ms\")\n"
   ]
  },
  {
   "attachments": {
    "image.png": {
     "image/png": "[encoded data removed]"
    }
   },
   "cell_type": "markdown",
   "id": "53953522",
   "metadata": {},
   "source": [
    "# Comparación de Tiempos: \n",
    "\n",
    "Para realizar una comparación de tiempos, se decidió realizar una toma de pruebas de 10 intentos para resolver el mismo problema de optimización, midiendo los tiempos en cada una de las pruebas y posteriormente comparandolas:\n",
    "\n",
    "\n",
    "| Intento   | Simplex      | Pyomo     |\n",
    "|-----------|--------------|-----------|\n",
    "| P1        | 0.0808002948 |0.1571209  |\n",
    "| P2        | 0.06989431   |0.1290121  |\n",
    "| P3        | 0.068294525  |0.0947446  |\n",
    "| P4        | 0.06490731   |0.1280491  |\n",
    "| P5        | 0.076535463  |0.1198186  |\n",
    "| P6        | 0.07329273   |0.1164553  |\n",
    "| P7        | 0.07329273   |0.1114282  |\n",
    "| P8        | 0.0751767158 |0.1159241  |\n",
    "| P9        | 0.071909666  |0.1199952  |\n",
    "| P10       | 0.0613899230 |0.0781910  |\n",
    "\n",
    "\n",
    "Todas las medidas de ambos el método Simplex como pyomo están en milisegundos (ms)\n",
    "Con esta información se realizó un gráfico de comparación entre los 2 métodos operando sobre el mismo ejercicio de optimización:\n",
    "\n",
    "![image.png](attachment:image.png)"
   ]
  },
  {
   "cell_type": "markdown",
   "id": "64cc1501",
   "metadata": {},
   "source": [
    "De este gráfico se puede evidenciar que, aunque actualmente el método Simplex es consistentemente más rápido, pero no por mucho, incluso para la prueba número 10, se evidencia que la diferencia entre desempeños es de tan solo 0.017ms. \n",
    "Sin embargo, las pruebas se hicieron con un caso pequeño (8 restricciones y 10 variables), por lo que es probable que no se pueda generalizar que Simplex tiene un mejor desempeño en todos los casos. El proceso de encontrar la columna y fila pivote y luego hacer las transformaciones necesarias en cada paso son costosas, por lo que muy probablemente, si se prueba con un caso sustancialmente mayor (por ejemplo, 30 variables), es muy probable que el método de Pyomo tenga un mejor rendimiento. Actualmente, se puede asumir que una porción considerable del tiempo que se demora en resolver el problema es generando el modelo, es decir, pasando los atributos, constraints, etc, al modelo de GLPK. Este tiempo afecta considerablemente el tiempo de un problema pequeño, pero si se fuera a probar con un problema mucho más complejo, posiblemente esta demora en construir el modelo sea la misma, y para ese caso, ya no es tan considerable. Es por esto que se puede asumir que el método de Pyomo, más específicamente el de GLPK, seguramente tiene una mejor escalabilidad al resolver problemas mayores."
   ]
  }
 ],
 "metadata": {
  "kernelspec": {
   "display_name": "pyomo_env",
   "language": "python",
   "name": "python3"
  },
  "language_info": {
   "codemirror_mode": {
    "name": "ipython",
    "version": 3
   },
   "file_extension": ".py",
   "mimetype": "text/x-python",
   "name": "python",
   "nbconvert_exporter": "python",
   "pygments_lexer": "ipython3",
   "version": "3.9.21"
  }
 },
 "nbformat": 4,
 "nbformat_minor": 5
}
