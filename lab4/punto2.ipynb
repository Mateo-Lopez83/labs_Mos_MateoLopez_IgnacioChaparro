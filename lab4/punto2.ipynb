{
 "cells": [
  {
   "cell_type": "markdown",
   "id": "bdd842c2",
   "metadata": {},
   "source": [
    "# Implementación del Método Simplex Dual Phase"
   ]
  },
  {
   "cell_type": "markdown",
   "id": "c3c4f746",
   "metadata": {},
   "source": [
    "## Ejercicio a resolver: \n",
    "\n",
    "Minimizar \n",
    "$$Z = 5{x_1} - 4{x_2} + 3{x_3} $$\n",
    "sujeto a:\n",
    "$$\n",
    "2x_1 + x_2 - x_3 = 10 \n",
    "$$\n",
    "$$\n",
    "x_1 - 3x_2 + 2x_3 \\ge 5\n",
    "$$\n",
    "$$\n",
    "x_1 + x_2 + x_3  \\le 15\n",
    "$$\n",
    "$$\n",
    "x_1,x_2,x_3 \\ge 0\n",
    "$$\n"
   ]
  },
  {
   "cell_type": "markdown",
   "id": "5d14e38c",
   "metadata": {},
   "source": [
    "### Paso 1: Transformaciones\n",
    "\n",
    "El primer paso es añadir las variables de holgura y exceso"
   ]
  },
  {
   "cell_type": "markdown",
   "id": "0443bbfe",
   "metadata": {},
   "source": [
    "Restricciones:\n",
    "$$\n",
    "2x_1 + x_2 - x_3 = 10 \n",
    "$$\n",
    "$$\n",
    "x_1 - 3x_2 + 2x_3 - x_4 = 5\n",
    "$$\n",
    "$$\n",
    "x_1 + x_2 + x_3 + x_5 = 15\n",
    "$$\n",
    "$$\n",
    "x_1,x_2,x_3,x_4,x_5 \\ge 0\n",
    "$$\n",
    "\n",
    "Donde se generó la variable de exceso $x_4$ y la variable de holgura $x_5$\n",
    "\n",
    "## Paso 2: Minimizar las variables artificiales\n",
    "Minimizar:\n",
    "$$ S = R_1 + R_2$$\n",
    "Sujeto a:\n",
    "$$\n",
    "2x_1 + x_2 - x_3 + R_1= 10 \n",
    "$$\n",
    "$$\n",
    "x_1 - 3x_2 + 2x_3 - x_4 + R_2= 5\n",
    "$$\n",
    "$$\n",
    "x_1 + x_2 + x_3 + x_5 = 15\n",
    "$$\n",
    "$$\n",
    "x_1,x_2,x_3,x_4,x_5 \\ge 0\n",
    "$$\n",
    "Se añadieron las variables artificales $R_1$ y $R_2$ para poder añadir variables básicas en las restricciones de $\\ge$ y `=`"
   ]
  },
  {
   "cell_type": "code",
   "execution_count": 1,
   "id": "6848bded",
   "metadata": {},
   "outputs": [],
   "source": [
    "import numpy as np\n",
    "import math\n",
    "import pandas as pd"
   ]
  },
  {
   "cell_type": "markdown",
   "id": "8d0a52e8",
   "metadata": {},
   "source": [
    "Se utilizará el método big M con M = 100 para las variables artificiales creadas"
   ]
  },
  {
   "cell_type": "code",
   "execution_count": 5,
   "id": "b1081fcc",
   "metadata": {},
   "outputs": [
    {
     "name": "stdout",
     "output_type": "stream",
     "text": [
      "     x1   x2   x3   x4   x5   R1   R2  solucion\n",
      "R1  2.0  1.0 -1.0  0.0  0.0  1.0  0.0      10.0\n",
      "R2  1.0 -3.0  2.0 -1.0  0.0  0.0  1.0       5.0\n",
      "x5  1.0  1.0  1.0  0.0  1.0  0.0  0.0      15.0\n",
      "Z   0.0  0.0  0.0  0.0  0.0 -1.0 -1.0       0.0\n"
     ]
    }
   ],
   "source": [
    "# Se representa de forma matricial cada uno de los coeficientes de las restricciones, incluyendo ambos las variables de holgura, exceso y \n",
    "# artificiales\n",
    "# en el orden x1, x2, x3, x4, x5, R1, R2\n",
    "M = 100\n",
    "restricciones = np.array([[2,1,-1,0,0,1,0], #R1\n",
    "                         [1,-3,2,-1,0,0,1], #R2\n",
    "                         [1,1,1,0,1,0,0]],  #x5\n",
    "                         dtype=float)\n",
    "# vector de soluciones\n",
    "soluciones  = np.array([10,5,15] ,dtype=float)\n",
    "# vector de la función objetivo, también en orden x1, x2, x3, x4, x5, R1, R2\n",
    "\n",
    "z = np.array([0,0,0,0,0,-1,-1], dtype=float)\n",
    "\n",
    "# Agregar columna de soluciones a la matriz\n",
    "tabla = np.hstack((restricciones, soluciones.reshape(-1, 1)))\n",
    "#Añadir la fila de z\n",
    "tabla = np.vstack((tabla, np.append(z, 0)))\n",
    "\n",
    "columnas = ['x1', 'x2', 'x3', 'x4', 'x5', 'R1', 'R2', 'solucion']\n",
    "filas = ['R1', 'R2', 'x5', 'Z']\n",
    "\n",
    "# Crear y mostrar el DataFrame\n",
    "df = pd.DataFrame(tabla, columns=columnas, index=filas)\n",
    "print(df)\n",
    "\n",
    "\n"
   ]
  },
  {
   "cell_type": "markdown",
   "id": "c1a532a9",
   "metadata": {},
   "source": [
    "El siguiente paso es recalcular la fila de Z, ya que actualmente es inconsistente con las variables básicas R1 y R2(-100 - 100 = 0)\n",
    "#TODO justificar\n",
    "\n",
    "\n",
    "\n",
    "$$Z_{nueva} = Z_{vieja} - filaR_1 - filaR_2$$\n",
    "\n",
    "$$ Z_{nueva} = (0,0,0,0,0,-1,-1,0) -(2,1,-1,0,0,1,0,10) -(1,-3,2,-1,0,0,1,5)\n"
   ]
  },
  {
   "cell_type": "code",
   "execution_count": 6,
   "id": "0db7deb9",
   "metadata": {},
   "outputs": [
    {
     "name": "stdout",
     "output_type": "stream",
     "text": [
      "     x1   x2   x3   x4   x5   R1   R2  solucion\n",
      "R1  2.0  1.0 -1.0  0.0  0.0  1.0  0.0      10.0\n",
      "R2  1.0 -3.0  2.0 -1.0  0.0  0.0  1.0       5.0\n",
      "x5  1.0  1.0  1.0  0.0  1.0  0.0  0.0      15.0\n",
      "Z  -3.0  2.0 -1.0  1.0  0.0 -2.0 -2.0     -15.0\n"
     ]
    }
   ],
   "source": [
    "z_vieja = tabla[-1, :].copy()\n",
    "z_nueva = z_vieja - tabla[0, :] - tabla[1, :]\n",
    "tabla[-1, :] = z_nueva\n",
    "\n",
    "df = pd.DataFrame(tabla, columns=columnas, index=filas)\n",
    "print(df)"
   ]
  },
  {
   "cell_type": "markdown",
   "id": "af2a468b",
   "metadata": {},
   "source": [
    "Como es un problema de minimización, se selecciona entre las columnas cuyo valor en la fila Z sean positivas. Entre las posibles, la columna de x1 es la que tiene el mayor valor en la columna Z, entonces esa será la columna pivote. \n",
    "- Fila de R_1: $10/2 = 5$\n",
    "- Fila de R_2: $5/1 = 5$\n",
    "- Fila de x_4: $15/1 = 15$\n",
    "\n",
    "Como ambos $R_1$ y $R_2 $ tienen el mismo valor de dividir el valor de la columna de solución sobre el de la columna de $x_1$, se selecciona arbitrariamente que se reemplazará la fila de $R_1$\n",
    "\n",
    "Primero se normalizará la fila de R1, dividiendo todo por 2"
   ]
  },
  {
   "cell_type": "code",
   "execution_count": 4,
   "id": "975d3174",
   "metadata": {},
   "outputs": [
    {
     "name": "stdout",
     "output_type": "stream",
     "text": [
      "     x1     x2     x3     x4   x5    R1    R2  solucion\n",
      "x1  1.0    0.5   -0.5    0.0  0.0   0.5   0.0       5.0\n",
      "R2  0.0   -3.5    2.5   -1.0  0.0  -0.5   1.0       0.0\n",
      "x4  0.0    0.5    1.5    0.0  1.0  -0.5   0.0      10.0\n",
      "Z   0.0 -350.0  250.0 -100.0  0.0 -51.0  99.0       0.0\n"
     ]
    }
   ],
   "source": [
    "filaR1 = tabla[0, :].copy()\n",
    "filaR1 = filaR1/2\n",
    "tabla[0,:] = filaR1\n",
    "\n",
    "#Nueva fila = (Fila actual) - (Coeficiente de la columna pivote) × (Nueva fila pivote)\n",
    "\n",
    "# Actualizamos la fila Z\n",
    "fila_Z_act = tabla[-1,:]\n",
    "tabla[-1,:]  = fila_Z_act - (fila_Z_act[0]*filaR1)\n",
    "\n",
    "# Actualizamos la fila R2\n",
    "fila_R2_act = tabla[1,:]\n",
    "tabla[1,:]  = fila_R2_act - (fila_R2_act[0]*filaR1)\n",
    "\n",
    "# Actualizamos la fila x4\n",
    "fila_x4_act = tabla[2,:]\n",
    "tabla[2,:]  = fila_x4_act - (fila_x4_act[0]*filaR1)\n",
    "#Entra la columna de x1 y reemplaza la de R1\n",
    "filas = ['x1', 'R2', 'x4', 'Z']\n",
    "df = pd.DataFrame(tabla, columns=columnas, index=filas)\n",
    "print(df)\n",
    "\n"
   ]
  },
  {
   "cell_type": "markdown",
   "id": "6c8ee34d",
   "metadata": {},
   "source": [
    "Después de realizar el primer cambio, aún hay una columna con el coeficiente en la fila de Z positivo, entonces se realiza el mismo proceso para seleccionar la siguiente fila pivote con la columna pivote $x_3$:\n",
    "- Fila de x_1: $5/-0.5 = -10$ NO SE CONSIDERA\n",
    "- Fila de R_2: $0/2.5 = 0$ \n",
    "- Fila de x_4: $10/1.5 = 6.66$\n",
    "\n",
    "Entonces se selecciona la fila de $R_2$ y se vuelve a hacer el mismo proceso\n",
    "\n"
   ]
  },
  {
   "cell_type": "code",
   "execution_count": 5,
   "id": "94e54135",
   "metadata": {},
   "outputs": [
    {
     "name": "stdout",
     "output_type": "stream",
     "text": [
      "     x1   x2   x3   x4   x5     R1     R2  solucion\n",
      "x1  1.0 -0.2  0.0 -0.2  0.0    0.4    0.2       5.0\n",
      "x3  0.0 -1.4  1.0 -0.4  0.0   -0.2    0.4       0.0\n",
      "x4  0.0  2.6  0.0  0.6  1.0   -0.2   -0.6      10.0\n",
      "Z   0.0  1.2  0.0  2.2  0.0 -101.4 -102.2     -25.0\n"
     ]
    }
   ],
   "source": [
    "filaR2 = tabla[1, :].copy()\n",
    "filaR2 = filaR2/2.5\n",
    "tabla[1,:] = filaR2\n",
    "\n",
    "#Nueva fila = (Fila actual) - (Coeficiente de la columna pivote) × (Nueva fila pivote)\n",
    "\n",
    "# Actualizamos la fila Z\n",
    "fila_Z_act = tabla[-1,:]\n",
    "tabla[-1,:]  = fila_Z_act - (fila_Z_act[2]*filaR2)\n",
    "\n",
    "# Actualizamos la fila x1\n",
    "fila_x1_act = tabla[0,:]\n",
    "tabla[0,:]  = fila_x1_act - (fila_x1_act[2]*filaR2)\n",
    "\n",
    "# Actualizamos la fila x4\n",
    "fila_x4_act = tabla[2,:]\n",
    "tabla[2,:]  = fila_x4_act - (fila_x4_act[2]*filaR2)\n",
    "#Entra la columna de x3 y reemplaza la de R2\n",
    "filas = ['x1', 'x3', 'x4', 'Z']\n",
    "df = pd.DataFrame(tabla, columns=columnas, index=filas)\n",
    "print(df)"
   ]
  },
  {
   "cell_type": "markdown",
   "id": "9923808b",
   "metadata": {},
   "source": [
    "El siguiente paso es seleccionar la siguiente variable de la fila Z más positiva, en este caso siendo x4 como nuestra columna pivote. Seleccionamos la fila pivote de la misma manera que las otras 2 veces :)\n",
    "- Fila de x_1: $5/-0.2 = -25$ NO SE CONSIDERA\n",
    "- Fila de x_3: $0/-0.4 = -0$ NO SE CONSIDERA (tecnisismo del -0) \n",
    "- Fila de x_4: $10/0.6 = 16.66$\n",
    "\n",
    "Se selecciona la fila pivote de $x_4$ "
   ]
  },
  {
   "cell_type": "code",
   "execution_count": 6,
   "id": "3dbcde09",
   "metadata": {},
   "outputs": [
    {
     "name": "stdout",
     "output_type": "stream",
     "text": [
      "     x1        x2   x3   x4        x5          R1     R2   solucion\n",
      "x1  1.0  0.666667  0.0  0.0  0.333333    0.333333    0.0   8.333333\n",
      "x3  0.0  0.333333  1.0  0.0  0.666667   -0.333333    0.0   6.666667\n",
      "x4  0.0  4.333333  0.0  1.0  1.666667   -0.333333   -1.0  16.666667\n",
      "Z   0.0 -8.333333  0.0  0.0 -3.666667 -100.666667 -100.0 -61.666667\n"
     ]
    }
   ],
   "source": [
    "filax4 = tabla[2, :].copy()\n",
    "filax4 = filax4 / tabla[2, 3] \n",
    "\n",
    "tabla[2, :] = filax4\n",
    "\n",
    "# Nueva fila = (Fila actual) - (Coeficiente de la columna pivote) × (Nueva fila pivote)\n",
    "\n",
    "# Actualizamos la fila Z\n",
    "fila_Z_act = tabla[-1, :].copy()\n",
    "tabla[-1, :] = fila_Z_act - (fila_Z_act[3] * filax4)  \n",
    "\n",
    "# Actualizamos la fila x1\n",
    "fila_x1_act = tabla[0, :].copy()\n",
    "tabla[0, :] = fila_x1_act - (fila_x1_act[3] * filax4)\n",
    "\n",
    "# Actualizamos la fila x3\n",
    "fila_x3_act = tabla[1, :].copy()\n",
    "tabla[1, :] = fila_x3_act - (fila_x3_act[3] * filax4)\n",
    "\n",
    "# Entra y sale x4, no se alteran los nombres de las filas\n",
    "filas = ['x1', 'x3', 'x4', 'Z']\n",
    "df = pd.DataFrame(tabla, columns=columnas, index=filas)\n",
    "print(df)"
   ]
  },
  {
   "cell_type": "markdown",
   "id": "70abda5d",
   "metadata": {},
   "source": [
    "Como ya todos los valores de la fila Z son negativos, llegamos a la solución óptima para R1 y R2 con \n",
    "$$x_1 = 8.333$$\n",
    "$$x_2 = 0$$\n",
    "$$x_3 = 6.67$$\n",
    "$$x_4 = 16.6667$$\n",
    "$$x_5 = 0$$\n",
    ":)\n",
    "Ahora podemos eliminar las columnas de R1 y R2, ya que ya cumplieron su función. \n",
    "\n",
    "La segunda fase de este proceso es volver a realizar el método simplex, con la solución de la fase 1 como una solución factible básica para el segundo problema (el original).\n",
    "\n",
    "$$Z = 5{x_1} - 4{x_2} + 3{x_3} $$\n",
    "\n",
    "sujeto a:\n",
    "$$ x_1 + \\frac{2}{3} x_2 + \\frac{1}{3}x_5 = 8.3333$$\n",
    "$$ \\frac{1}{3}x_2 + x_3 + \\frac{2}{3}x_5 = 6.667$$\n",
    "$$ \\frac{13}{3}x_2 + x_4 + \\frac{5}{3}x_5 = 16.667$$\n",
    "\n"
   ]
  },
  {
   "cell_type": "code",
   "execution_count": 7,
   "id": "131dc45d",
   "metadata": {},
   "outputs": [
    {
     "name": "stdout",
     "output_type": "stream",
     "text": [
      "     x1        x2   x3   x4        x5   solucion\n",
      "x1  1.0  0.666667  0.0  0.0  0.333333   8.333333\n",
      "x3  0.0  0.333333  1.0  0.0  0.666667   6.666667\n",
      "x4  0.0  4.333333  0.0  1.0  1.666667  16.666667\n",
      "Z   5.0 -4.000000  3.0  0.0  0.000000   0.000000\n"
     ]
    }
   ],
   "source": [
    "# Se representa de forma matricial la tabla\n",
    "# en el orden x1, x2, x3, x4, x5\n",
    "\n",
    "restriccionesP2 = np.array([[1,2/3,0,0,1/3,], #x1\n",
    "                         [0,1/3,1,0,2/3], #x3\n",
    "                         [0,13/3,0,1,5/3]],  #x4\n",
    "                         dtype=float)\n",
    "# vector de soluciones (8.3333, 6.6667, 16.6667 en fracción)\n",
    "solucionesP2  = np.array([25/3,20/3,50/3] ,dtype=float)\n",
    "# vector de la función objetivo, también en orden x1, x2, x3, x4, x5\n",
    "z_2 = np.array([5,-4,3,0,0], dtype=float)\n",
    "\n",
    "# Agregar columna de soluciones a la matriz\n",
    "tablaP2 = np.hstack((restriccionesP2, solucionesP2.reshape(-1, 1)))\n",
    "#Añadir la fila de z\n",
    "tablaP2 = np.vstack((tablaP2, np.append(z_2, 0)))\n",
    "\n",
    "columnas2 = ['x1', 'x2', 'x3', 'x4', 'x5','solucion']\n",
    "filas2 = ['x1', 'x3', 'x4', 'Z']\n",
    "\n",
    "# Crear y mostrar el DataFrame\n",
    "df2 = pd.DataFrame(tablaP2, columns=columnas2, index=filas2)\n",
    "print(df2)"
   ]
  },
  {
   "cell_type": "markdown",
   "id": "6f7733e6",
   "metadata": {},
   "source": [
    "Ahora se realizan los mismos pasos del método de simplex que se realizaron previamente. En esta iteración, como ya se hizo paso a paso, se realizará una función que haga el pivote automáticamente, recibiendo el número de la columna y la fila pivote. "
   ]
  },
  {
   "cell_type": "code",
   "execution_count": 8,
   "id": "a2545dc7",
   "metadata": {},
   "outputs": [],
   "source": [
    "def pivote(tabla, num_fila_piv, num_col_piv):\n",
    "    nueva_tabla = tabla.copy()\n",
    "\n",
    "    #Se toma solo la fila pivote, se edita y se devuelve a la tabla\n",
    "    fila_pivote = nueva_tabla[num_fila_piv, :].copy()\n",
    "    pivote_elemento = fila_pivote[num_col_piv]\n",
    "    fila_pivote = fila_pivote / pivote_elemento\n",
    "    nueva_tabla[num_fila_piv, :] = fila_pivote\n",
    "\n",
    "    for i in range(nueva_tabla.shape[0]):\n",
    "        if i != num_fila_piv:\n",
    "            fila_actual = nueva_tabla[i, :].copy()\n",
    "            coef = fila_actual[num_col_piv]\n",
    "            nueva_tabla[i, :] = fila_actual - (coef * fila_pivote)\n",
    "\n",
    "    return nueva_tabla"
   ]
  },
  {
   "cell_type": "markdown",
   "id": "6afe0fb9",
   "metadata": {},
   "source": [
    "Como estamos minimizando, el proceso es el mismo al de la fase 1, seleccionando la columna pivote como la que tenga el mayor valor positivo entre los valores de la fila de Z. En este caso sería la fila $x_1$, ya que el valor de ella en la fila de Z es el mayor (5.9). Sin embargo, la columna de $x_1$ ya está normalizada, y no haría nada tener esa como la variable de entrada. Así que se selecciona la siguiente más grande, la cual es la columna $x_3$ y se selecciona la fila pivote de la misma manera que previamente:\n",
    "- Fila de $x_1$ $8.3333 \\div 0 = inf$ NO SE CONSIDERA\n",
    "- Fila de $x_3$ $6.6667 \\div 1 = 6.6667$\n",
    "- Fila de $x_4$ $8.3333 \\div 0 = inf$ NO SE CONSIDERA\n",
    "\n",
    "Entonces nuestra fila pivote también es la fila de $x_3$:\n"
   ]
  },
  {
   "cell_type": "code",
   "execution_count": 9,
   "id": "d20e9561",
   "metadata": {},
   "outputs": [
    {
     "name": "stdout",
     "output_type": "stream",
     "text": [
      "     x1        x2   x3   x4        x5   solucion\n",
      "x1  1.0  0.666667  0.0  0.0  0.333333   8.333333\n",
      "x3  0.0  0.333333  1.0  0.0  0.666667   6.666667\n",
      "x4  0.0  4.333333  0.0  1.0  1.666667  16.666667\n",
      "Z   5.0 -5.000000  0.0  0.0 -2.000000 -20.000000\n"
     ]
    }
   ],
   "source": [
    "# Ambos la columna como la fila son 0 para utilizar la fila y columna x_1\n",
    "tablaP2 = pivote(tablaP2, 1,2)\n",
    "df2 = pd.DataFrame(tablaP2, columns=columnas2, index=filas2)\n",
    "print (df2)\n"
   ]
  },
  {
   "cell_type": "markdown",
   "id": "262621e8",
   "metadata": {},
   "source": [
    "Ahora seleccionamos la siguiente columna cuyo valor en la fila Z es el siguiente más alto, la cual es la columna $x_3$. \n",
    "- Fila de $x_1$ $8.3333 \\div 1 = 8.333$\n",
    "- Fila de $x_3$ $6.6667 \\div 0 = inf$ NO SE CONSIDERA\n",
    "- Fila de $x_4$ $8.3333 \\div 0 = inf$ NO SE CONSIDERA "
   ]
  }
 ],
 "metadata": {
  "kernelspec": {
   "display_name": "pyomo_env",
   "language": "python",
   "name": "python3"
  },
  "language_info": {
   "codemirror_mode": {
    "name": "ipython",
    "version": 3
   },
   "file_extension": ".py",
   "mimetype": "text/x-python",
   "name": "python",
   "nbconvert_exporter": "python",
   "pygments_lexer": "ipython3",
   "version": "3.9.21"
  }
 },
 "nbformat": 4,
 "nbformat_minor": 5
}
