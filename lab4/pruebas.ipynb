{
 "cells": [
  {
   "cell_type": "code",
   "execution_count": 1,
   "id": "d8c1a3fb",
   "metadata": {},
   "outputs": [],
   "source": [
    "import numpy as np\n",
    "import math\n",
    "import pandas as pd"
   ]
  },
  {
   "cell_type": "code",
   "execution_count": 2,
   "id": "6e1aea1d",
   "metadata": {},
   "outputs": [
    {
     "name": "stdout",
     "output_type": "stream",
     "text": [
      "     x1   x2   x3   x4   x5   R1   R2  solucion\n",
      "R1  2.0  1.0 -1.0  0.0  0.0  1.0  0.0      10.0\n",
      "R2  1.0 -3.0  2.0 -1.0  0.0  0.0  1.0       5.0\n",
      "x5  1.0  1.0  1.0  0.0  1.0  0.0  0.0      15.0\n",
      "Z   0.0  0.0  0.0  0.0  0.0 -1.0 -1.0       0.0\n"
     ]
    }
   ],
   "source": [
    "# Se representa de forma matricial cada uno de los coeficientes de las restricciones, incluyendo ambos las variables de holgura, exceso y \n",
    "# artificiales\n",
    "# en el orden x1, x2, x3, x4, x5, R1, R2\n",
    "\n",
    "restricciones = np.array([[2,1,-1,0,0,1,0], #R1\n",
    "                         [1,-3,2,-1,0,0,1], #R2\n",
    "                         [1,1,1,0,1,0,0]],  #x5\n",
    "                         dtype=float)\n",
    "# vector de soluciones\n",
    "soluciones  = np.array([10,5,15] ,dtype=float)\n",
    "# vector de la función objetivo, también en orden x1, x2, x3, x4, x5, R1, R2\n",
    "# Para usar el método de big M, se le asignan a R1 y R2 valores de 100\n",
    "z = np.array([0,0,0,0,0,-1,-1], dtype=float)\n",
    "\n",
    "# Agregar columna de soluciones a la matriz\n",
    "tabla = np.hstack((restricciones, soluciones.reshape(-1, 1)))\n",
    "#Añadir la fila de z\n",
    "tabla = np.vstack((tabla, np.append(z, 0)))\n",
    "\n",
    "columnas = ['x1', 'x2', 'x3', 'x4', 'x5', 'R1', 'R2', 'solucion']\n",
    "filas = ['R1', 'R2', 'x5', 'Z']\n",
    "\n",
    "# Crear y mostrar el DataFrame\n",
    "df = pd.DataFrame(tabla, columns=columnas, index=filas)\n",
    "print(df)\n",
    "\n",
    "\n"
   ]
  },
  {
   "cell_type": "code",
   "execution_count": 3,
   "id": "4b607ae4",
   "metadata": {},
   "outputs": [
    {
     "name": "stdout",
     "output_type": "stream",
     "text": [
      "     x1   x2   x3   x4   x5   R1   R2  solucion\n",
      "R1  2.0  1.0 -1.0  0.0  0.0  1.0  0.0      10.0\n",
      "R2  1.0 -3.0  2.0 -1.0  0.0  0.0  1.0       5.0\n",
      "x5  1.0  1.0  1.0  0.0  1.0  0.0  0.0      15.0\n",
      "Z  -3.0  2.0 -1.0  1.0  0.0 -2.0 -2.0     -15.0\n"
     ]
    }
   ],
   "source": [
    "z_vieja = tabla[-1, :].copy()\n",
    "z_nueva = z_vieja -tabla[0, :] - tabla[1, :]\n",
    "tabla[-1, :] = z_nueva\n",
    "\n",
    "df = pd.DataFrame(tabla, columns=columnas, index=filas)\n",
    "print(df)\n"
   ]
  },
  {
   "cell_type": "code",
   "execution_count": 4,
   "id": "f7c245ff",
   "metadata": {},
   "outputs": [
    {
     "name": "stdout",
     "output_type": "stream",
     "text": [
      "Iteración 1:\n",
      "Columna pivote:  0. Entra la variable x1 como básica\n",
      "Fila pivote:  0. Sale la variable R1 como básica.\n",
      "tabla actual:\n",
      "     x1   x2   x3   x4   x5   R1   R2  solucion\n",
      "x1  1.0  0.5 -0.5  0.0  0.0  0.5  0.0       5.0\n",
      "R2  0.0 -3.5  2.5 -1.0  0.0 -0.5  1.0       0.0\n",
      "x5  0.0  0.5  1.5  0.0  1.0 -0.5  0.0      10.0\n",
      "Z   0.0  3.5 -2.5  1.0  0.0 -0.5 -2.0       0.0\n",
      "Iteración 2:\n",
      "Columna pivote:  2. Entra la variable x3 como básica\n",
      "Fila pivote:  1. Sale la variable R2 como básica.\n",
      "tabla actual:\n",
      "     x1   x2   x3   x4   x5   R1   R2  solucion\n",
      "x1  1.0 -0.2  0.0 -0.2  0.0  0.4  0.2       5.0\n",
      "x3  0.0 -1.4  1.0 -0.4  0.0 -0.2  0.4       0.0\n",
      "x5  0.0  2.6  0.0  0.6  1.0 -0.2 -0.6      10.0\n",
      "Z   0.0  0.0  0.0  0.0  0.0 -1.0 -1.0       0.0\n",
      "Solución encontrada!!: \n",
      "     x1   x2   x3   x4   x5   R1   R2  solucion\n",
      "x1  1.0 -0.2  0.0 -0.2  0.0  0.4  0.2       5.0\n",
      "x3  0.0 -1.4  1.0 -0.4  0.0 -0.2  0.4       0.0\n",
      "x5  0.0  2.6  0.0  0.6  1.0 -0.2 -0.6      10.0\n",
      "Z   0.0  0.0  0.0  0.0  0.0 -1.0 -1.0       0.0\n"
     ]
    }
   ],
   "source": [
    "def revisar_minimizacion(tabla, num_fase):\n",
    "    if num_fase==1:\n",
    "        z_solution = tabla[-1, -1]\n",
    "        if abs(z_solution) < 1e-6: \n",
    "            no_hay_artificiales = False\n",
    "            for var in filas:\n",
    "                if var in ['R1', 'R2']:\n",
    "                    no_hay_artificiales = True\n",
    "            return no_hay_artificiales\n",
    "        else:\n",
    "            return True\n",
    "    elif num_fase ==2:\n",
    "        return any(var <0 for var in tabla[-1,:])\n",
    "\n",
    "\n",
    "def pivote(tabla, num_fila_piv, num_col_piv):\n",
    "    nueva_tabla = tabla.copy()\n",
    "\n",
    "    #Se toma solo la fila pivote, se edita y se devuelve a la tabla\n",
    "    fila_pivote = nueva_tabla[num_fila_piv, :].copy()\n",
    "    pivote_elemento = fila_pivote[num_col_piv]\n",
    "    fila_pivote = fila_pivote / pivote_elemento\n",
    "    nueva_tabla[num_fila_piv, :] = fila_pivote\n",
    "\n",
    "    for i in range(nueva_tabla.shape[0]):\n",
    "        if i != num_fila_piv:\n",
    "            fila_actual = nueva_tabla[i, :].copy()\n",
    "            coef = fila_actual[num_col_piv]\n",
    "            nueva_tabla[i, :] = fila_actual - (coef * fila_pivote)\n",
    "\n",
    "    return nueva_tabla\n",
    "\n",
    "\n",
    "\n",
    "\n",
    "def solver_minimizacion(tabla, filas, columnas, num_fase):\n",
    "    iteracion = 1\n",
    "    \n",
    "    while revisar_minimizacion(tabla, num_fase):\n",
    "        print (f\"Iteración {iteracion}:\")\n",
    "        columna = np.argmin(tabla[-1,:-1])\n",
    "        print (f\"Columna pivote:  {columna}. Entra la variable {columnas[columna]} como básica\")       \n",
    "        #Encontrar la fila pivote\n",
    "        num_fila = 0\n",
    "        ratios = []\n",
    "        for i in range(tabla[:-1].shape[0]):\n",
    "            if tabla[i, columna] > 0:\n",
    "                posible = tabla[i, -1] / tabla[i, columna]\n",
    "                ratios.append(posible)\n",
    "            else:\n",
    "                ratios.append(np.inf)\n",
    "\n",
    "        \n",
    "        num_fila = np.argmin(ratios)\n",
    "        print (f\"Fila pivote:  {num_fila}. Sale la variable {filas[num_fila]} como básica.\") \n",
    "        filas[num_fila] = columnas[columna]\n",
    "        tabla = pivote(tabla, num_fila, columna)\n",
    "        print(\"tabla actual:\")\n",
    "        print (pd.DataFrame(tabla, columns=columnas, index=filas))\n",
    "        iteracion+=1\n",
    "    print(\"Solución encontrada!!: \")\n",
    "    return tabla\n",
    "\n",
    "\n",
    "columnas = ['x1', 'x2', 'x3', 'x4', 'x5', 'R1', 'R2', 'solucion']\n",
    "filas = ['R1', 'R2', 'x5','Z']\n",
    "tabla = solver_minimizacion(tabla, filas, columnas,num_fase=1)\n",
    "\n",
    "df = pd.DataFrame(tabla, columns=columnas, index=filas)\n",
    "print(df)\n",
    "\n",
    "        "
   ]
  },
  {
   "cell_type": "markdown",
   "id": "ce38e6dd",
   "metadata": {},
   "source": [
    "Ahora se eliminan las columnas de las variables artificiales.\n",
    "\n"
   ]
  },
  {
   "cell_type": "code",
   "execution_count": 5,
   "id": "3ab17df6",
   "metadata": {},
   "outputs": [
    {
     "name": "stdout",
     "output_type": "stream",
     "text": [
      "     x1   x2   x3   x4   x5  solucion\n",
      "x1  1.0 -0.2  0.0 -0.2  0.0       5.0\n",
      "x3  0.0 -1.4  1.0 -0.4  0.0       0.0\n",
      "x5  0.0  2.6  0.0  0.6  1.0      10.0\n",
      "Z  -5.0  4.0 -3.0  0.0  0.0       0.0\n"
     ]
    }
   ],
   "source": [
    "\n",
    "df = df.drop(columns=['R1', 'R2'])\n",
    "tabla = df.to_numpy()\n",
    "#Se reescriben las columnas para que ya no tengan R1 ni R2\n",
    "columnas = ['x1', 'x2', 'x3', 'x4', 'x5', 'solucion']\n",
    "\n",
    "#Se reescribe la fila objetivo con las restricciones originales y la solución actual en 0\n",
    "tabla[-1, :] = [-5, 4, -3, 0, 0,0]\n",
    "df = pd.DataFrame(tabla, columns=columnas, index=filas)\n",
    "print(df)"
   ]
  },
  {
   "cell_type": "markdown",
   "id": "91cd2e03",
   "metadata": {},
   "source": [
    "Se encontró una solución donde\n",
    "$$ x_1 - \\frac{1}{5}x_2 - \\frac{1}{5}x_4 = 5$$\n",
    "$$ -\\frac{7}{5}x_2 +x_3 - \\frac{2}{5}x_4 = 0$$\n",
    "$$ \\frac{13}{5}x_2 + \\frac{3}{5}x_4 + x_5 = 10$$\n",
    "\n",
    "Como las variables básicas son x_1, x_3 y x_5, se reescriben las 3 ecuaciones para despejar esas 3 variables:\n",
    "$$ x_1 = 5 +\\frac{1}{5}x_2+ \\frac{1}{5}x_4$$\n",
    "$$ x_3 = \\frac{7}{5}x_2 + \\frac{2}{5}x_4$$\n",
    "$$ x_5 = 10 - \\frac{13}{5}x_2 - \\frac{3}{5}x_4 $$\n",
    "\n",
    "\n",
    "y se reescribe la fila de Z con las ecuaciones obtenidas previamente:\n",
    "\n",
    "$$Z = 5x_1 -4x_2 +3x_3 +0x_4 +0x_5$$\n",
    "\n",
    "$$Z = 5(5 +\\frac{1}{5}x_2+\\frac{1}{5}x_4) -4x_2 +3(\\frac{7}{5}x_2 + \\frac{2}{5}x_4)$$\n",
    "\n",
    "$$ Z = 25 + x_2 +x_4 -4x_2 + \\frac{21}{5}x_2 +  \\frac{6}{5}x_4$$\n",
    "\n",
    "$$ Z = 25 + \\frac{6}{5}x_2 + \\frac{11}{5}x_4 $$\n",
    "\n",
    "Finalmente, se dejan todas las variables del mismo lado:\n",
    "\n",
    "$$ Z - \\frac{6}{5}x_2 - \\frac{11}{5}x_4 = 25$$\n",
    "\n",
    "Entonces se reescribe la tabla de simplex con la nueva fila para Z:\n",
    "$$[0,-\\frac{6}{5}x_2,0,-\\frac{11}{5}x_4,0,25]$$"
   ]
  },
  {
   "cell_type": "code",
   "execution_count": 6,
   "id": "0e5a4d81",
   "metadata": {},
   "outputs": [
    {
     "name": "stdout",
     "output_type": "stream",
     "text": [
      "     x1   x2   x3   x4   x5  solucion\n",
      "x1  1.0 -0.2  0.0 -0.2  0.0       5.0\n",
      "x3  0.0 -1.4  1.0 -0.4  0.0       0.0\n",
      "x5  0.0  2.6  0.0  0.6  1.0      10.0\n",
      "Z   0.0 -1.2  0.0 -2.2  0.0      25.0\n"
     ]
    }
   ],
   "source": [
    "tabla[-1,:] = np.array([0,-6/5,0,-11/5,0,25],dtype=float)\n",
    "df = pd.DataFrame(tabla, columns=columnas, index=filas)\n",
    "print(df)"
   ]
  },
  {
   "cell_type": "markdown",
   "id": "b491b709",
   "metadata": {},
   "source": [
    "Ahora se resuelve de nuevo"
   ]
  },
  {
   "cell_type": "code",
   "execution_count": 7,
   "id": "ae151222",
   "metadata": {},
   "outputs": [
    {
     "name": "stdout",
     "output_type": "stream",
     "text": [
      "Iteración 1:\n",
      "Columna pivote:  3. Entra la variable x4 como básica\n",
      "Fila pivote:  2. Sale la variable x5 como básica.\n",
      "tabla actual:\n",
      "     x1        x2   x3   x4        x5   solucion\n",
      "x1  1.0  0.666667  0.0  0.0  0.333333   8.333333\n",
      "x3  0.0  0.333333  1.0  0.0  0.666667   6.666667\n",
      "x4  0.0  4.333333  0.0  1.0  1.666667  16.666667\n",
      "Z   0.0  8.333333  0.0  0.0  3.666667  61.666667\n",
      "Solución encontrada!!: \n",
      "     x1        x2   x3   x4        x5   solucion\n",
      "x1  1.0  0.666667  0.0  0.0  0.333333   8.333333\n",
      "x3  0.0  0.333333  1.0  0.0  0.666667   6.666667\n",
      "x4  0.0  4.333333  0.0  1.0  1.666667  16.666667\n",
      "Z   0.0  8.333333  0.0  0.0  3.666667  61.666667\n"
     ]
    }
   ],
   "source": [
    "tabla = solver_minimizacion(tabla, filas, columnas,num_fase=2)\n",
    "\n",
    "df = pd.DataFrame(tabla, columns=columnas, index=filas)\n",
    "print(df)"
   ]
  }
 ],
 "metadata": {
  "kernelspec": {
   "display_name": "pyomo_env",
   "language": "python",
   "name": "python3"
  },
  "language_info": {
   "codemirror_mode": {
    "name": "ipython",
    "version": 3
   },
   "file_extension": ".py",
   "mimetype": "text/x-python",
   "name": "python",
   "nbconvert_exporter": "python",
   "pygments_lexer": "ipython3",
   "version": "3.9.21"
  }
 },
 "nbformat": 4,
 "nbformat_minor": 5
}
